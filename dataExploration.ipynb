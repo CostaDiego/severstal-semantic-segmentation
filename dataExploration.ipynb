{
 "cells": [
  {
   "cell_type": "code",
   "execution_count": 1,
   "metadata": {},
   "outputs": [],
   "source": [
    "import pandas as pd\n",
    "import numpy as np\n",
    "import os.path"
   ]
  },
  {
   "cell_type": "code",
   "execution_count": 2,
   "metadata": {},
   "outputs": [],
   "source": [
    "#Foldes and files definitions\n",
    "base_folder = \"severstal-steel-defect-detection\"\n",
    "train_folder = os.path.join(base_folder, \"train_images\")\n",
    "test_folder = os.path.join(base_folder, \"test_images\")\n",
    "\n",
    "train_file = \"train.csv\"\n",
    "submission_file = \"sample_submission.csv\"\n",
    "\n",
    "severstal_path = os.path.join(base_folder, train_file)"
   ]
  },
  {
   "cell_type": "code",
   "execution_count": 3,
   "metadata": {},
   "outputs": [],
   "source": [
    "#Dataframe columns\n",
    "image = 'ImageId'\n",
    "clss = 'ClassId'\n",
    "pxls = 'EncodedPixels'\n",
    "pth = 'Path'\n",
    "exists = 'Exists'"
   ]
  },
  {
   "cell_type": "code",
   "execution_count": 4,
   "metadata": {},
   "outputs": [
    {
     "data": {
      "text/plain": [
       "Index(['ImageId', 'ClassId', 'EncodedPixels'], dtype='object')"
      ]
     },
     "execution_count": 4,
     "metadata": {},
     "output_type": "execute_result"
    }
   ],
   "source": [
    "#Read the csv file containing the information about the images\n",
    "severstal_df = pd.read_csv(severstal_path)\n",
    "severstal_df.columns"
   ]
  },
  {
   "cell_type": "code",
   "execution_count": 5,
   "metadata": {},
   "outputs": [],
   "source": [
    "#Check the integrity of the data and add the information on the dataframe\n",
    "severstal_df[pth] = severstal_df[image].map(lambda x:\n",
    "                                               os.path.join(train_folder, x)\n",
    "                                           )\n",
    "severstal_df[exists] = severstal_df[pth].map(os.path.exists)"
   ]
  },
  {
   "cell_type": "code",
   "execution_count": 6,
   "metadata": {},
   "outputs": [
    {
     "name": "stdout",
     "output_type": "stream",
     "text": [
      "7095 images found of 7095\n"
     ]
    }
   ],
   "source": [
    "print(severstal_df[exists].sum(), 'images found of', severstal_df.shape[0])"
   ]
  },
  {
   "cell_type": "code",
   "execution_count": 7,
   "metadata": {},
   "outputs": [
    {
     "data": {
      "text/html": [
       "<div>\n",
       "<style scoped>\n",
       "    .dataframe tbody tr th:only-of-type {\n",
       "        vertical-align: middle;\n",
       "    }\n",
       "\n",
       "    .dataframe tbody tr th {\n",
       "        vertical-align: top;\n",
       "    }\n",
       "\n",
       "    .dataframe thead th {\n",
       "        text-align: right;\n",
       "    }\n",
       "</style>\n",
       "<table border=\"1\" class=\"dataframe\">\n",
       "  <thead>\n",
       "    <tr style=\"text-align: right;\">\n",
       "      <th></th>\n",
       "      <th>ImageId</th>\n",
       "      <th>ClassId</th>\n",
       "      <th>EncodedPixels</th>\n",
       "      <th>Path</th>\n",
       "      <th>Exists</th>\n",
       "    </tr>\n",
       "  </thead>\n",
       "  <tbody>\n",
       "    <tr>\n",
       "      <td>0</td>\n",
       "      <td>0002cc93b.jpg</td>\n",
       "      <td>1</td>\n",
       "      <td>29102 12 29346 24 29602 24 29858 24 30114 24 3...</td>\n",
       "      <td>severstal-steel-defect-detection/train_images/...</td>\n",
       "      <td>True</td>\n",
       "    </tr>\n",
       "    <tr>\n",
       "      <td>1</td>\n",
       "      <td>0007a71bf.jpg</td>\n",
       "      <td>3</td>\n",
       "      <td>18661 28 18863 82 19091 110 19347 110 19603 11...</td>\n",
       "      <td>severstal-steel-defect-detection/train_images/...</td>\n",
       "      <td>True</td>\n",
       "    </tr>\n",
       "    <tr>\n",
       "      <td>2</td>\n",
       "      <td>000a4bcdd.jpg</td>\n",
       "      <td>1</td>\n",
       "      <td>37607 3 37858 8 38108 14 38359 20 38610 25 388...</td>\n",
       "      <td>severstal-steel-defect-detection/train_images/...</td>\n",
       "      <td>True</td>\n",
       "    </tr>\n",
       "    <tr>\n",
       "      <td>3</td>\n",
       "      <td>000f6bf48.jpg</td>\n",
       "      <td>4</td>\n",
       "      <td>131973 1 132228 4 132483 6 132738 8 132993 11 ...</td>\n",
       "      <td>severstal-steel-defect-detection/train_images/...</td>\n",
       "      <td>True</td>\n",
       "    </tr>\n",
       "    <tr>\n",
       "      <td>4</td>\n",
       "      <td>0014fce06.jpg</td>\n",
       "      <td>3</td>\n",
       "      <td>229501 11 229741 33 229981 55 230221 77 230468...</td>\n",
       "      <td>severstal-steel-defect-detection/train_images/...</td>\n",
       "      <td>True</td>\n",
       "    </tr>\n",
       "    <tr>\n",
       "      <td>...</td>\n",
       "      <td>...</td>\n",
       "      <td>...</td>\n",
       "      <td>...</td>\n",
       "      <td>...</td>\n",
       "      <td>...</td>\n",
       "    </tr>\n",
       "    <tr>\n",
       "      <td>7090</td>\n",
       "      <td>ffcf72ecf.jpg</td>\n",
       "      <td>3</td>\n",
       "      <td>121911 34 122167 101 122422 169 122678 203 122...</td>\n",
       "      <td>severstal-steel-defect-detection/train_images/...</td>\n",
       "      <td>True</td>\n",
       "    </tr>\n",
       "    <tr>\n",
       "      <td>7091</td>\n",
       "      <td>fff02e9c5.jpg</td>\n",
       "      <td>3</td>\n",
       "      <td>207523 3 207777 9 208030 15 208283 22 208537 2...</td>\n",
       "      <td>severstal-steel-defect-detection/train_images/...</td>\n",
       "      <td>True</td>\n",
       "    </tr>\n",
       "    <tr>\n",
       "      <td>7092</td>\n",
       "      <td>fffe98443.jpg</td>\n",
       "      <td>3</td>\n",
       "      <td>105929 5 106177 14 106424 24 106672 33 106923 ...</td>\n",
       "      <td>severstal-steel-defect-detection/train_images/...</td>\n",
       "      <td>True</td>\n",
       "    </tr>\n",
       "    <tr>\n",
       "      <td>7093</td>\n",
       "      <td>ffff4eaa8.jpg</td>\n",
       "      <td>3</td>\n",
       "      <td>16899 7 17155 20 17411 34 17667 47 17923 60 18...</td>\n",
       "      <td>severstal-steel-defect-detection/train_images/...</td>\n",
       "      <td>True</td>\n",
       "    </tr>\n",
       "    <tr>\n",
       "      <td>7094</td>\n",
       "      <td>ffffd67df.jpg</td>\n",
       "      <td>3</td>\n",
       "      <td>30931 43 31103 127 31275 211 31489 253 31745 2...</td>\n",
       "      <td>severstal-steel-defect-detection/train_images/...</td>\n",
       "      <td>True</td>\n",
       "    </tr>\n",
       "  </tbody>\n",
       "</table>\n",
       "<p>7095 rows × 5 columns</p>\n",
       "</div>"
      ],
      "text/plain": [
       "            ImageId  ClassId  \\\n",
       "0     0002cc93b.jpg        1   \n",
       "1     0007a71bf.jpg        3   \n",
       "2     000a4bcdd.jpg        1   \n",
       "3     000f6bf48.jpg        4   \n",
       "4     0014fce06.jpg        3   \n",
       "...             ...      ...   \n",
       "7090  ffcf72ecf.jpg        3   \n",
       "7091  fff02e9c5.jpg        3   \n",
       "7092  fffe98443.jpg        3   \n",
       "7093  ffff4eaa8.jpg        3   \n",
       "7094  ffffd67df.jpg        3   \n",
       "\n",
       "                                          EncodedPixels  \\\n",
       "0     29102 12 29346 24 29602 24 29858 24 30114 24 3...   \n",
       "1     18661 28 18863 82 19091 110 19347 110 19603 11...   \n",
       "2     37607 3 37858 8 38108 14 38359 20 38610 25 388...   \n",
       "3     131973 1 132228 4 132483 6 132738 8 132993 11 ...   \n",
       "4     229501 11 229741 33 229981 55 230221 77 230468...   \n",
       "...                                                 ...   \n",
       "7090  121911 34 122167 101 122422 169 122678 203 122...   \n",
       "7091  207523 3 207777 9 208030 15 208283 22 208537 2...   \n",
       "7092  105929 5 106177 14 106424 24 106672 33 106923 ...   \n",
       "7093  16899 7 17155 20 17411 34 17667 47 17923 60 18...   \n",
       "7094  30931 43 31103 127 31275 211 31489 253 31745 2...   \n",
       "\n",
       "                                                   Path  Exists  \n",
       "0     severstal-steel-defect-detection/train_images/...    True  \n",
       "1     severstal-steel-defect-detection/train_images/...    True  \n",
       "2     severstal-steel-defect-detection/train_images/...    True  \n",
       "3     severstal-steel-defect-detection/train_images/...    True  \n",
       "4     severstal-steel-defect-detection/train_images/...    True  \n",
       "...                                                 ...     ...  \n",
       "7090  severstal-steel-defect-detection/train_images/...    True  \n",
       "7091  severstal-steel-defect-detection/train_images/...    True  \n",
       "7092  severstal-steel-defect-detection/train_images/...    True  \n",
       "7093  severstal-steel-defect-detection/train_images/...    True  \n",
       "7094  severstal-steel-defect-detection/train_images/...    True  \n",
       "\n",
       "[7095 rows x 5 columns]"
      ]
     },
     "execution_count": 7,
     "metadata": {},
     "output_type": "execute_result"
    }
   ],
   "source": [
    "severstal_df"
   ]
  },
  {
   "cell_type": "code",
   "execution_count": null,
   "metadata": {},
   "outputs": [],
   "source": []
  }
 ],
 "metadata": {
  "kernelspec": {
   "display_name": "i2a2",
   "language": "python",
   "name": "i2a2"
  },
  "language_info": {
   "codemirror_mode": {
    "name": "ipython",
    "version": 3
   },
   "file_extension": ".py",
   "mimetype": "text/x-python",
   "name": "python",
   "nbconvert_exporter": "python",
   "pygments_lexer": "ipython3",
   "version": "3.7.6"
  }
 },
 "nbformat": 4,
 "nbformat_minor": 4
}
